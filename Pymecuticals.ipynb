{
 "cells": [
  {
   "cell_type": "code",
   "execution_count": 1,
   "metadata": {},
   "outputs": [],
   "source": [
    "import matplotlib.pyplot as plt\n",
    "import pandas as pd\n",
    "import numpy as np\n",
    "\n",
    "# Hide warning messages in notebook\n",
    "import warnings\n",
    "warnings.filterwarnings('ignore')"
   ]
  },
  {
   "cell_type": "code",
   "execution_count": 2,
   "metadata": {},
   "outputs": [],
   "source": [
    "file_1 = \"~/Desktop/trial.csv\"\n",
    "file_2 = \"~/Desktop/mouse.csv\""
   ]
  },
  {
   "cell_type": "code",
   "execution_count": 3,
   "metadata": {},
   "outputs": [],
   "source": [
    "drug_df = pd.read_csv(file_2)"
   ]
  },
  {
   "cell_type": "code",
   "execution_count": 4,
   "metadata": {},
   "outputs": [],
   "source": [
    "ex_df = pd.read_csv(file_1)"
   ]
  },
  {
   "cell_type": "code",
   "execution_count": 5,
   "metadata": {},
   "outputs": [
    {
     "data": {
      "text/html": [
       "<div>\n",
       "<style scoped>\n",
       "    .dataframe tbody tr th:only-of-type {\n",
       "        vertical-align: middle;\n",
       "    }\n",
       "\n",
       "    .dataframe tbody tr th {\n",
       "        vertical-align: top;\n",
       "    }\n",
       "\n",
       "    .dataframe thead th {\n",
       "        text-align: right;\n",
       "    }\n",
       "</style>\n",
       "<table border=\"1\" class=\"dataframe\">\n",
       "  <thead>\n",
       "    <tr style=\"text-align: right;\">\n",
       "      <th></th>\n",
       "      <th>Mouse ID</th>\n",
       "      <th>Timepoint</th>\n",
       "      <th>Tumor Volume (mm3)</th>\n",
       "      <th>Metastatic Sites</th>\n",
       "      <th>Drug</th>\n",
       "    </tr>\n",
       "  </thead>\n",
       "  <tbody>\n",
       "    <tr>\n",
       "      <td>0</td>\n",
       "      <td>b128</td>\n",
       "      <td>0</td>\n",
       "      <td>45.000000</td>\n",
       "      <td>0</td>\n",
       "      <td>Capomulin</td>\n",
       "    </tr>\n",
       "    <tr>\n",
       "      <td>1</td>\n",
       "      <td>f932</td>\n",
       "      <td>0</td>\n",
       "      <td>45.000000</td>\n",
       "      <td>0</td>\n",
       "      <td>Ketapril</td>\n",
       "    </tr>\n",
       "    <tr>\n",
       "      <td>2</td>\n",
       "      <td>g107</td>\n",
       "      <td>0</td>\n",
       "      <td>45.000000</td>\n",
       "      <td>0</td>\n",
       "      <td>Ketapril</td>\n",
       "    </tr>\n",
       "    <tr>\n",
       "      <td>3</td>\n",
       "      <td>a457</td>\n",
       "      <td>0</td>\n",
       "      <td>45.000000</td>\n",
       "      <td>0</td>\n",
       "      <td>Ketapril</td>\n",
       "    </tr>\n",
       "    <tr>\n",
       "      <td>4</td>\n",
       "      <td>c819</td>\n",
       "      <td>0</td>\n",
       "      <td>45.000000</td>\n",
       "      <td>0</td>\n",
       "      <td>Ketapril</td>\n",
       "    </tr>\n",
       "    <tr>\n",
       "      <td>...</td>\n",
       "      <td>...</td>\n",
       "      <td>...</td>\n",
       "      <td>...</td>\n",
       "      <td>...</td>\n",
       "      <td>...</td>\n",
       "    </tr>\n",
       "    <tr>\n",
       "      <td>1901</td>\n",
       "      <td>r944</td>\n",
       "      <td>45</td>\n",
       "      <td>41.581521</td>\n",
       "      <td>2</td>\n",
       "      <td>Capomulin</td>\n",
       "    </tr>\n",
       "    <tr>\n",
       "      <td>1902</td>\n",
       "      <td>u364</td>\n",
       "      <td>45</td>\n",
       "      <td>31.023923</td>\n",
       "      <td>3</td>\n",
       "      <td>Capomulin</td>\n",
       "    </tr>\n",
       "    <tr>\n",
       "      <td>1903</td>\n",
       "      <td>p438</td>\n",
       "      <td>45</td>\n",
       "      <td>61.433892</td>\n",
       "      <td>1</td>\n",
       "      <td>Ceftamin</td>\n",
       "    </tr>\n",
       "    <tr>\n",
       "      <td>1904</td>\n",
       "      <td>x773</td>\n",
       "      <td>45</td>\n",
       "      <td>58.634971</td>\n",
       "      <td>4</td>\n",
       "      <td>Placebo</td>\n",
       "    </tr>\n",
       "    <tr>\n",
       "      <td>1905</td>\n",
       "      <td>b879</td>\n",
       "      <td>45</td>\n",
       "      <td>72.555239</td>\n",
       "      <td>2</td>\n",
       "      <td>Stelasyn</td>\n",
       "    </tr>\n",
       "  </tbody>\n",
       "</table>\n",
       "<p>1906 rows × 5 columns</p>\n",
       "</div>"
      ],
      "text/plain": [
       "     Mouse ID  Timepoint  Tumor Volume (mm3)  Metastatic Sites       Drug\n",
       "0        b128          0           45.000000                 0  Capomulin\n",
       "1        f932          0           45.000000                 0   Ketapril\n",
       "2        g107          0           45.000000                 0   Ketapril\n",
       "3        a457          0           45.000000                 0   Ketapril\n",
       "4        c819          0           45.000000                 0   Ketapril\n",
       "...       ...        ...                 ...               ...        ...\n",
       "1901     r944         45           41.581521                 2  Capomulin\n",
       "1902     u364         45           31.023923                 3  Capomulin\n",
       "1903     p438         45           61.433892                 1   Ceftamin\n",
       "1904     x773         45           58.634971                 4    Placebo\n",
       "1905     b879         45           72.555239                 2   Stelasyn\n",
       "\n",
       "[1906 rows x 5 columns]"
      ]
     },
     "execution_count": 5,
     "metadata": {},
     "output_type": "execute_result"
    }
   ],
   "source": [
    "full_df = ex_df.merge(drug_df,how='left', left_on='Mouse ID', right_on='Mouse ID')\n",
    "full_df"
   ]
  },
  {
   "cell_type": "code",
   "execution_count": 6,
   "metadata": {},
   "outputs": [
    {
     "data": {
      "text/html": [
       "<div>\n",
       "<style scoped>\n",
       "    .dataframe tbody tr th:only-of-type {\n",
       "        vertical-align: middle;\n",
       "    }\n",
       "\n",
       "    .dataframe tbody tr th {\n",
       "        vertical-align: top;\n",
       "    }\n",
       "\n",
       "    .dataframe thead th {\n",
       "        text-align: right;\n",
       "    }\n",
       "</style>\n",
       "<table border=\"1\" class=\"dataframe\">\n",
       "  <thead>\n",
       "    <tr style=\"text-align: right;\">\n",
       "      <th></th>\n",
       "      <th>Mouse ID</th>\n",
       "      <th>Timepoint</th>\n",
       "      <th>Tumor Volume (mm3)</th>\n",
       "      <th>Metastatic Sites</th>\n",
       "      <th>Drug</th>\n",
       "    </tr>\n",
       "  </thead>\n",
       "  <tbody>\n",
       "    <tr>\n",
       "      <td>0</td>\n",
       "      <td>b128</td>\n",
       "      <td>0</td>\n",
       "      <td>45.000000</td>\n",
       "      <td>0</td>\n",
       "      <td>Capomulin</td>\n",
       "    </tr>\n",
       "    <tr>\n",
       "      <td>1</td>\n",
       "      <td>f932</td>\n",
       "      <td>0</td>\n",
       "      <td>45.000000</td>\n",
       "      <td>0</td>\n",
       "      <td>Ketapril</td>\n",
       "    </tr>\n",
       "    <tr>\n",
       "      <td>2</td>\n",
       "      <td>g107</td>\n",
       "      <td>0</td>\n",
       "      <td>45.000000</td>\n",
       "      <td>0</td>\n",
       "      <td>Ketapril</td>\n",
       "    </tr>\n",
       "    <tr>\n",
       "      <td>3</td>\n",
       "      <td>a457</td>\n",
       "      <td>0</td>\n",
       "      <td>45.000000</td>\n",
       "      <td>0</td>\n",
       "      <td>Ketapril</td>\n",
       "    </tr>\n",
       "    <tr>\n",
       "      <td>4</td>\n",
       "      <td>c819</td>\n",
       "      <td>0</td>\n",
       "      <td>45.000000</td>\n",
       "      <td>0</td>\n",
       "      <td>Ketapril</td>\n",
       "    </tr>\n",
       "    <tr>\n",
       "      <td>...</td>\n",
       "      <td>...</td>\n",
       "      <td>...</td>\n",
       "      <td>...</td>\n",
       "      <td>...</td>\n",
       "      <td>...</td>\n",
       "    </tr>\n",
       "    <tr>\n",
       "      <td>1891</td>\n",
       "      <td>i557</td>\n",
       "      <td>45</td>\n",
       "      <td>47.685963</td>\n",
       "      <td>1</td>\n",
       "      <td>Capomulin</td>\n",
       "    </tr>\n",
       "    <tr>\n",
       "      <td>1896</td>\n",
       "      <td>t718</td>\n",
       "      <td>45</td>\n",
       "      <td>63.423695</td>\n",
       "      <td>4</td>\n",
       "      <td>Placebo</td>\n",
       "    </tr>\n",
       "    <tr>\n",
       "      <td>1901</td>\n",
       "      <td>r944</td>\n",
       "      <td>45</td>\n",
       "      <td>41.581521</td>\n",
       "      <td>2</td>\n",
       "      <td>Capomulin</td>\n",
       "    </tr>\n",
       "    <tr>\n",
       "      <td>1902</td>\n",
       "      <td>u364</td>\n",
       "      <td>45</td>\n",
       "      <td>31.023923</td>\n",
       "      <td>3</td>\n",
       "      <td>Capomulin</td>\n",
       "    </tr>\n",
       "    <tr>\n",
       "      <td>1904</td>\n",
       "      <td>x773</td>\n",
       "      <td>45</td>\n",
       "      <td>58.634971</td>\n",
       "      <td>4</td>\n",
       "      <td>Placebo</td>\n",
       "    </tr>\n",
       "  </tbody>\n",
       "</table>\n",
       "<p>777 rows × 5 columns</p>\n",
       "</div>"
      ],
      "text/plain": [
       "     Mouse ID  Timepoint  Tumor Volume (mm3)  Metastatic Sites       Drug\n",
       "0        b128          0           45.000000                 0  Capomulin\n",
       "1        f932          0           45.000000                 0   Ketapril\n",
       "2        g107          0           45.000000                 0   Ketapril\n",
       "3        a457          0           45.000000                 0   Ketapril\n",
       "4        c819          0           45.000000                 0   Ketapril\n",
       "...       ...        ...                 ...               ...        ...\n",
       "1891     i557         45           47.685963                 1  Capomulin\n",
       "1896     t718         45           63.423695                 4    Placebo\n",
       "1901     r944         45           41.581521                 2  Capomulin\n",
       "1902     u364         45           31.023923                 3  Capomulin\n",
       "1904     x773         45           58.634971                 4    Placebo\n",
       "\n",
       "[777 rows x 5 columns]"
      ]
     },
     "execution_count": 6,
     "metadata": {},
     "output_type": "execute_result"
    }
   ],
   "source": [
    "med_list = [\"Capomulin\", \"Infubinol\", \"Ketapril\", \"Placebo\"]\n",
    "df_clean = full_df[full_df['Drug'].isin(med_list)]\n",
    "df_clean.set_index('')"
   ]
  },
  {
   "cell_type": "code",
   "execution_count": 7,
   "metadata": {},
   "outputs": [],
   "source": [
    "from mlxtend.plotting import category_scatter"
   ]
  },
  {
   "cell_type": "code",
   "execution_count": 37,
   "metadata": {},
   "outputs": [
    {
     "data": {
      "text/plain": [
       "[]"
      ]
     },
     "execution_count": 37,
     "metadata": {},
     "output_type": "execute_result"
    },
    {
     "data": {
      "image/png": "[encoded data removed]",
      "text/plain": [
       "<Figure size 432x288 with 1 Axes>"
      ]
     },
     "metadata": {
      "needs_background": "light"
     },
     "output_type": "display_data"
    }
   ],
   "source": [
    "#A scatter plot that shows how the tumor volume changes over time for each treatment.\n",
    "category_scatter(x='Timepoint', y='Tumor Volume (mm3)', label_col='Drug',\n",
    "                       data=df_clean)\n",
    "\n",
    "plt.title(\"Tumor Volume Over Time\")\n",
    "plt.ylabel('Tumor Volume')\n",
    "plt.xlabel(\"Timepoint\")\n",
    "plt.grid()\n",
    "plt.savefig(\"tumor_vol.png\")\n",
    "plt.plot()\n",
    "#While this graph is really cool, I decided that an average per timepoint would be a better representation. Read on for that."
   ]
  },
  {
   "cell_type": "code",
   "execution_count": 193,
   "metadata": {},
   "outputs": [
    {
     "data": {
      "text/html": [
       "<div>\n",
       "<style scoped>\n",
       "    .dataframe tbody tr th:only-of-type {\n",
       "        vertical-align: middle;\n",
       "    }\n",
       "\n",
       "    .dataframe tbody tr th {\n",
       "        vertical-align: top;\n",
       "    }\n",
       "\n",
       "    .dataframe thead th {\n",
       "        text-align: right;\n",
       "    }\n",
       "</style>\n",
       "<table border=\"1\" class=\"dataframe\">\n",
       "  <thead>\n",
       "    <tr style=\"text-align: right;\">\n",
       "      <th></th>\n",
       "      <th>Metastatic Sites</th>\n",
       "    </tr>\n",
       "    <tr>\n",
       "      <th>Timepoint</th>\n",
       "      <th></th>\n",
       "    </tr>\n",
       "  </thead>\n",
       "  <tbody>\n",
       "    <tr>\n",
       "      <td>0</td>\n",
       "      <td>0.000000</td>\n",
       "    </tr>\n",
       "    <tr>\n",
       "      <td>5</td>\n",
       "      <td>0.278351</td>\n",
       "    </tr>\n",
       "    <tr>\n",
       "      <td>10</td>\n",
       "      <td>0.597826</td>\n",
       "    </tr>\n",
       "    <tr>\n",
       "      <td>15</td>\n",
       "      <td>0.821429</td>\n",
       "    </tr>\n",
       "    <tr>\n",
       "      <td>20</td>\n",
       "      <td>1.086420</td>\n",
       "    </tr>\n",
       "    <tr>\n",
       "      <td>25</td>\n",
       "      <td>1.381579</td>\n",
       "    </tr>\n",
       "    <tr>\n",
       "      <td>30</td>\n",
       "      <td>1.694444</td>\n",
       "    </tr>\n",
       "    <tr>\n",
       "      <td>35</td>\n",
       "      <td>1.876923</td>\n",
       "    </tr>\n",
       "    <tr>\n",
       "      <td>40</td>\n",
       "      <td>2.224138</td>\n",
       "    </tr>\n",
       "    <tr>\n",
       "      <td>45</td>\n",
       "      <td>2.365385</td>\n",
       "    </tr>\n",
       "  </tbody>\n",
       "</table>\n",
       "</div>"
      ],
      "text/plain": [
       "           Metastatic Sites\n",
       "Timepoint                  \n",
       "0                  0.000000\n",
       "5                  0.278351\n",
       "10                 0.597826\n",
       "15                 0.821429\n",
       "20                 1.086420\n",
       "25                 1.381579\n",
       "30                 1.694444\n",
       "35                 1.876923\n",
       "40                 2.224138\n",
       "45                 2.365385"
      ]
     },
     "execution_count": 193,
     "metadata": {},
     "output_type": "execute_result"
    }
   ],
   "source": [
    "ms_data = df_clean[['Timepoint', 'Metastatic Sites', 'Drug']]\n",
    "ms_data\n",
    "ms_data.groupby(['Timepoint']).mean()"
   ]
  },
  {
   "cell_type": "code",
   "execution_count": 192,
   "metadata": {},
   "outputs": [
    {
     "data": {
      "text/html": [
       "<div>\n",
       "<style scoped>\n",
       "    .dataframe tbody tr th:only-of-type {\n",
       "        vertical-align: middle;\n",
       "    }\n",
       "\n",
       "    .dataframe tbody tr th {\n",
       "        vertical-align: top;\n",
       "    }\n",
       "\n",
       "    .dataframe thead th {\n",
       "        text-align: right;\n",
       "    }\n",
       "</style>\n",
       "<table border=\"1\" class=\"dataframe\">\n",
       "  <thead>\n",
       "    <tr style=\"text-align: right;\">\n",
       "      <th></th>\n",
       "      <th>Metastatic Sites</th>\n",
       "    </tr>\n",
       "    <tr>\n",
       "      <th>Timepoint</th>\n",
       "      <th></th>\n",
       "    </tr>\n",
       "  </thead>\n",
       "  <tbody>\n",
       "    <tr>\n",
       "      <td>0</td>\n",
       "      <td>0.000000</td>\n",
       "    </tr>\n",
       "    <tr>\n",
       "      <td>5</td>\n",
       "      <td>0.278351</td>\n",
       "    </tr>\n",
       "    <tr>\n",
       "      <td>10</td>\n",
       "      <td>0.597826</td>\n",
       "    </tr>\n",
       "    <tr>\n",
       "      <td>15</td>\n",
       "      <td>0.821429</td>\n",
       "    </tr>\n",
       "    <tr>\n",
       "      <td>20</td>\n",
       "      <td>1.086420</td>\n",
       "    </tr>\n",
       "    <tr>\n",
       "      <td>25</td>\n",
       "      <td>1.381579</td>\n",
       "    </tr>\n",
       "    <tr>\n",
       "      <td>30</td>\n",
       "      <td>1.694444</td>\n",
       "    </tr>\n",
       "    <tr>\n",
       "      <td>35</td>\n",
       "      <td>1.876923</td>\n",
       "    </tr>\n",
       "    <tr>\n",
       "      <td>40</td>\n",
       "      <td>2.224138</td>\n",
       "    </tr>\n",
       "    <tr>\n",
       "      <td>45</td>\n",
       "      <td>2.365385</td>\n",
       "    </tr>\n",
       "  </tbody>\n",
       "</table>\n",
       "</div>"
      ],
      "text/plain": [
       "           Metastatic Sites\n",
       "Timepoint                  \n",
       "0                  0.000000\n",
       "5                  0.278351\n",
       "10                 0.597826\n",
       "15                 0.821429\n",
       "20                 1.086420\n",
       "25                 1.381579\n",
       "30                 1.694444\n",
       "35                 1.876923\n",
       "40                 2.224138\n",
       "45                 2.365385"
      ]
     },
     "execution_count": 192,
     "metadata": {},
     "output_type": "execute_result"
    }
   ],
   "source": [
    "clean = ms_data.set_index('Drug')\n",
    "clean\n",
    "clean.groupby(['Timepoint']).mean()"
   ]
  },
  {
   "cell_type": "code",
   "execution_count": 191,
   "metadata": {},
   "outputs": [],
   "source": [
    "#Try to make a dataframe for each drug, then groupby day to find the mean for each day\n",
    "v_df = df_clean[\"Drug\"] == 'Capomulin'\n",
    "c_df = df_clean[v_df]\n"
   ]
  },
  {
   "cell_type": "code",
   "execution_count": 190,
   "metadata": {},
   "outputs": [],
   "source": [
    "c_stats = c_df.groupby(['Timepoint']).mean()\n"
   ]
  },
  {
   "cell_type": "code",
   "execution_count": 189,
   "metadata": {},
   "outputs": [],
   "source": [
    "v2_df = df_clean[\"Drug\"] == 'Ketapril'\n",
    "k_df = df_clean[v2_df]\n"
   ]
  },
  {
   "cell_type": "code",
   "execution_count": 188,
   "metadata": {},
   "outputs": [],
   "source": [
    "k_stats = k_df.groupby(['Timepoint']).mean()\n"
   ]
  },
  {
   "cell_type": "code",
   "execution_count": 187,
   "metadata": {},
   "outputs": [],
   "source": [
    "v3_df = df_clean[\"Drug\"] == 'Placebo'\n",
    "p_df = df_clean[v3_df]\n"
   ]
  },
  {
   "cell_type": "code",
   "execution_count": 186,
   "metadata": {},
   "outputs": [],
   "source": [
    "p_stats = p_df.groupby(['Timepoint']).mean()\n"
   ]
  },
  {
   "cell_type": "code",
   "execution_count": 185,
   "metadata": {},
   "outputs": [],
   "source": [
    "v4_df = df_clean[\"Drug\"] == 'Infubinol'\n",
    "i_df = df_clean[v4_df]\n"
   ]
  },
  {
   "cell_type": "code",
   "execution_count": 184,
   "metadata": {},
   "outputs": [],
   "source": [
    "i_stats = i_df.groupby(['Timepoint']).mean()\n"
   ]
  },
  {
   "cell_type": "code",
   "execution_count": 194,
   "metadata": {},
   "outputs": [
    {
     "data": {
      "image/png": "[encoded data removed]",
      "text/plain": [
       "<Figure size 432x288 with 1 Axes>"
      ]
     },
     "metadata": {
      "needs_background": "light"
     },
     "output_type": "display_data"
    }
   ],
   "source": [
    "#A scatter plot that shows how the number of metastatic (cancer spreading) sites changes over time for each treatment.\n",
    "i_chart, = plt.scatter(i_stats.index, i_stats['Metastatic Sites'], marker='x', label = 'Infubinol'),\n",
    "p_chart, = plt.scatter(p_stats.index, p_stats['Metastatic Sites'], marker='*', label = 'Placebo'),\n",
    "k_chart, = plt.scatter(k_stats.index, k_stats['Metastatic Sites'], marker='^', label = 'Ketapril'),\n",
    "c_chart =  plt.scatter(c_stats.index, c_stats['Metastatic Sites'], marker='o', label = 'Capomulin')\n",
    "plt.xlabel('Timepoint')\n",
    "plt.ylabel('Tumor Volume (mm3)')\n",
    "plt.title('Number of Metastatic Sites Over 45 Days')\n",
    "plt.legend(handles=[i_chart, p_chart, k_chart, c_chart], loc=\"best\")\n",
    "plt.grid()\n",
    "plt.show()\n"
   ]
  },
  {
   "cell_type": "code",
   "execution_count": 108,
   "metadata": {},
   "outputs": [
    {
     "data": {
      "image/png": "[encoded data removed]",
      "text/plain": [
       "<Figure size 432x288 with 1 Axes>"
      ]
     },
     "metadata": {
      "needs_background": "light"
     },
     "output_type": "display_data"
    }
   ],
   "source": [
    "#A scatter plot that shows how the tumor volume changes over time for each treatment.\n",
    "i_chart, = plt.scatter(i_stats.index, i_stats['Tumor Volume (mm3)'], marker='x', label = 'Infubinol'),\n",
    "p_chart, = plt.scatter(p_stats.index, p_stats['Tumor Volume (mm3)'], marker='*', label = 'Placebo'),\n",
    "k_chart, = plt.scatter(k_stats.index, k_stats['Tumor Volume (mm3)'], marker='^', label = 'Ketapril'),\n",
    "c_chart =  plt.scatter(c_stats.index, c_stats['Tumor Volume (mm3)'], marker='o', label = 'Capomulin')\n",
    "plt.xlabel('Timepoint')\n",
    "plt.ylabel('Tumor Volume (mm3)')\n",
    "plt.title('Average Tumor Volume Over 45 Days')\n",
    "plt.legend(handles=[i_chart, p_chart, k_chart, c_chart], loc=\"best\")\n",
    "plt.grid()\n",
    "plt.show()\n",
    "#Pretty easy to see how effective Capomulin is when it comes to tumor volume. This is matched, perhaps not to \n",
    "#this extent, the trend of the metastatic data we observed in the earlier graph. As for the other treatments, \n",
    "#we see almost no difference in terms of average tumor volume. We do see that Infubinol has a significant leg \n",
    "#up in terms of number of metastatic sites, though."
   ]
  },
  {
   "cell_type": "code",
   "execution_count": 183,
   "metadata": {},
   "outputs": [],
   "source": [
    "c_mice = c_df.groupby(['Timepoint']).nunique()\n"
   ]
  },
  {
   "cell_type": "code",
   "execution_count": 182,
   "metadata": {},
   "outputs": [],
   "source": [
    "i_mice = i_df.groupby(['Timepoint']).nunique()\n"
   ]
  },
  {
   "cell_type": "code",
   "execution_count": 181,
   "metadata": {},
   "outputs": [],
   "source": [
    "k_mice = k_df.groupby(['Timepoint']).nunique()\n"
   ]
  },
  {
   "cell_type": "code",
   "execution_count": 180,
   "metadata": {},
   "outputs": [],
   "source": [
    "p_mice = p_df.groupby(['Timepoint']).nunique()\n"
   ]
  },
  {
   "cell_type": "code",
   "execution_count": 107,
   "metadata": {},
   "outputs": [
    {
     "data": {
      "image/png": "[encoded data removed]",
      "text/plain": [
       "<Figure size 432x288 with 1 Axes>"
      ]
     },
     "metadata": {
      "needs_background": "light"
     },
     "output_type": "display_data"
    }
   ],
   "source": [
    "#A scatter plot that shows the number of mice still alive through the course of treatment (Survival Rate)\n",
    "i_mouse_chart, = plt.scatter(i_mice.index, i_mice['Mouse ID'], marker='x', label = 'Infubinol'),\n",
    "p_mouse_chart, = plt.scatter(p_mice.index, p_mice['Mouse ID'], marker='*', label = 'Placebo'),\n",
    "k_mouse_chart, = plt.scatter(k_mice.index, k_mice['Mouse ID'], marker='^', label = 'Ketapril'),\n",
    "c_mouse_chart =  plt.scatter(c_mice.index, c_mice['Mouse ID'], marker='o', label = 'Capomulin')\n",
    "plt.xlabel('Timepoint')\n",
    "plt.ylabel('Mice Alive')\n",
    "plt.title('Mouse Survival')\n",
    "plt.legend(handles=[i_mouse_chart, p_mouse_chart, k_mouse_chart, c_mouse_chart], loc=\"best\")\n",
    "plt.grid()\n",
    "plt.show()\n",
    "#While Infubinol showed some dim promise in our first analysis, we can see from this test that the mice\n",
    "#showed the lowest survival rates out of all the treatments, even worse than the placebo. Luckily, the \n",
    "#shining star from our first analysis preformed well in this test as well, with just 4 mice dying in \n",
    "#the 45 day period. \n"
   ]
  },
  {
   "cell_type": "code",
   "execution_count": 172,
   "metadata": {},
   "outputs": [],
   "source": [
    "p_stats = p_df.groupby(['Timepoint']).mean()\n",
    "p_change = p_stats[['Tumor Volume (mm3)']]"
   ]
  },
  {
   "cell_type": "code",
   "execution_count": 173,
   "metadata": {},
   "outputs": [],
   "source": [
    "k_stats = k_df.groupby(['Timepoint']).mean()\n",
    "k_change = k_stats[['Tumor Volume (mm3)']]\n"
   ]
  },
  {
   "cell_type": "code",
   "execution_count": 174,
   "metadata": {},
   "outputs": [],
   "source": [
    "i_stats = i_df.groupby(['Timepoint']).mean()\n",
    "i_change = i_stats[['Tumor Volume (mm3)']]\n"
   ]
  },
  {
   "cell_type": "code",
   "execution_count": 175,
   "metadata": {},
   "outputs": [],
   "source": [
    "c_stats = c_df.groupby(['Timepoint']).mean()\n",
    "c_vol = c_stats[['Tumor Volume (mm3)']]\n",
    "c_change = c_vol.pct_change()"
   ]
  },
  {
   "cell_type": "code",
   "execution_count": 176,
   "metadata": {},
   "outputs": [],
   "source": [
    "p_stats = p_df.groupby(['Timepoint']).mean()\n",
    "p_vol = p_stats[['Tumor Volume (mm3)']]\n",
    "p_change = p_vol.pct_change()"
   ]
  },
  {
   "cell_type": "code",
   "execution_count": 177,
   "metadata": {},
   "outputs": [],
   "source": [
    "i_stats = i_df.groupby(['Timepoint']).mean()\n",
    "i_vol = i_stats[['Tumor Volume (mm3)']]\n",
    "i_change = i_vol.pct_change()"
   ]
  },
  {
   "cell_type": "code",
   "execution_count": 178,
   "metadata": {},
   "outputs": [],
   "source": [
    "k_stats = k_df.groupby(['Timepoint']).mean()\n",
    "k_vol = k_stats[['Tumor Volume (mm3)']]\n",
    "k_change = k_vol.pct_change()"
   ]
  },
  {
   "cell_type": "code",
   "execution_count": 179,
   "metadata": {},
   "outputs": [
    {
     "data": {
      "image/png": "[encoded data removed]",
      "text/plain": [
       "<Figure size 432x288 with 1 Axes>"
      ]
     },
     "metadata": {
      "needs_background": "light"
     },
     "output_type": "display_data"
    }
   ],
   "source": [
    "bar_w = 0.45\n",
    "\n",
    "i_bar = plt.bar(i_change.index, i_change['Tumor Volume (mm3)'],label='Infubinol'),\n",
    "c_bar = plt.bar(c_change.index+bar_w, c_change['Tumor Volume (mm3)'],label='Capomulin'), \n",
    "k_bar = plt.bar(k_change.index+bar_w*2, k_change['Tumor Volume (mm3)'],label='Ketapril'),\n",
    "p_bar = plt.bar(p_change.index+bar_w*3, p_change['Tumor Volume (mm3)'],label='Placebo')\n",
    "plt.ylabel('% Change')\n",
    "plt.ylim(top=0.10)\n",
    "plt.xlabel('Timepoint')\n",
    "plt.title('Tumor Volume Percent Change Over Time')\n",
    "plt.legend(loc='upper right',fontsize='x-small' )\n",
    "plt.show()"
   ]
  },
  {
   "cell_type": "code",
   "execution_count": null,
   "metadata": {},
   "outputs": [],
   "source": []
  }
 ],
 "metadata": {
  "kernelspec": {
   "display_name": "Python 3",
   "language": "python",
   "name": "python3"
  },
  "language_info": {
   "codemirror_mode": {
    "name": "ipython",
    "version": 3
   },
   "file_extension": ".py",
   "mimetype": "text/x-python",
   "name": "python",
   "nbconvert_exporter": "python",
   "pygments_lexer": "ipython3",
   "version": "3.6.9"
  }
 },
 "nbformat": 4,
 "nbformat_minor": 2
}
